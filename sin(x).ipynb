{
  "nbformat": 4,
  "nbformat_minor": 0,
  "metadata": {
    "colab": {
      "name": "Untitled4.ipynb",
      "provenance": []
    },
    "kernelspec": {
      "name": "python3",
      "display_name": "Python 3"
    },
    "accelerator": "GPU"
  },
  "cells": [
    {
      "cell_type": "code",
      "metadata": {
        "id": "I_EGGFhaAiw7",
        "colab_type": "code",
        "outputId": "eee4719d-0f87-4ad9-d000-3fdbcabe9612",
        "colab": {
          "base_uri": "https://localhost:8080/",
          "height": 583
        }
      },
      "source": [
        "# В данном примере мы будем приблежать sin(x) на отрезке [0,2] при помощи нейросети \n",
        "\n",
        "# Импонтируем необходимые библеотеки\n",
        "import numpy as np \n",
        "# numpy - библеотека питон для работы с тензорами,она должна быть вам знакома из курса ml\n",
        "import matplotlib.pyplot as plt\n",
        "#matplotlib - библеотека для вывода графиков,нужна для понятной интерпритации результатов\n",
        "from tensorflow.keras import layers\n",
        "from tensorflow.keras import models\n",
        "from tensorflow.keras import optimizers\n",
        "# keras - обертка над tensorflow,которая позволяет легко и быстро построить нейросеть практически любой архитектуры\n",
        "# Нам необходимо 3 компонента keras : layer, oprimizer, models, эти компоненты содержат уже готовые шаблоны разных типов моделей,слоев,методов оптимизации\n",
        "\n",
        "\n",
        "\n",
        "# создаем датасет\n",
        "x=np.linspace(0,2,1500) # иницианализируем необходимое количество точек,в указаном отрезке,подробнее тут: https://numpy.org/devdocs/reference/generated/numpy.linspace.html\n",
        "y = np.sin(x) # получаем массив значений синусов от массива x\n",
        "\n",
        "\n",
        "model = models.Sequential() # создаем модель(экземпляр класса) типа Sequential\n",
        "# Sequential - Последовательная модель представляет собой линейный стек слоев.\n",
        "# Подробнее: https://keras.io/getting-started/sequential-model-guide/\n",
        "\n",
        "\n",
        "model.add(layers.Dense(10,activation = 'sigmoid',input_dim=(1))) # добавляем слой типа Dense,указывая количество нейронов в слое,функцию активации,размерность входного массива\n",
        "# Примеч. Сам входной слой указывать не нужно,достаточно на первом скрытом слое указать параметр input_dim и он будет создан автоматически\n",
        "# Подробнее о слоях: https://keras.io/layers/core/\n",
        "\n",
        "\n",
        "model.add(layers.Dense(1,activation = 'sigmoid')) # добавляем слой типа Dense,выходной слой\n",
        "model.summary() #выводим информацию о модели\n",
        "\n",
        "model.compile(loss=\"mean_squared_error\", optimizer=optimizers.SGD(lr=5)) #компилируем  модель,указывая функцию потерь и метод оптимизации,lr - шаг обучения.\n",
        "# Про все функции для экземпляра класса модель,в том числе compile,fit,predict можно прочесть тут: https://keras.io/models/model/\n",
        "# Про виды ошибки,которые есть в keras можно прочесть тут: https://keras.io/losses/\n",
        "# Про виды оптимизаторов,которые есть в keras можно прочесть тут: https://keras.io/optimizers/\n",
        "\n",
        "\n",
        "model.fit(x,y,epochs= 1,batch_size=20,verbose=1) \n",
        "# обучаем,указывая:\n",
        "# x - обучающие данные;\n",
        "# y - верные ответы;\n",
        "# количество эпох(сколько раз наша нейросеть будет обучаться на датасете раз);\n",
        "# batch_size - указывает после сколько экземпляров x изменять значение весов;\n",
        "# verbose - способ отображения обучения\n",
        "result = model.predict(x)\n",
        "\n",
        "#выводим график \n",
        "fig, ax = plt.subplots()\n",
        "ax.plot(x, y,  label='Sin')\n",
        "ax.plot(x, result, label='Neural')\n",
        "leg = ax.legend()\n"
      ],
      "execution_count": 2,
      "outputs": [
        {
          "output_type": "stream",
          "text": [
            "WARNING:tensorflow:From /usr/local/lib/python3.6/dist-packages/tensorflow/python/ops/init_ops.py:1251: calling VarianceScaling.__init__ (from tensorflow.python.ops.init_ops) with dtype is deprecated and will be removed in a future version.\n",
            "Instructions for updating:\n",
            "Call initializer instance with the dtype argument instead of passing it to the constructor\n",
            "Model: \"sequential\"\n",
            "_________________________________________________________________\n",
            "Layer (type)                 Output Shape              Param #   \n",
            "=================================================================\n",
            "dense (Dense)                (None, 10)                20        \n",
            "_________________________________________________________________\n",
            "dense_1 (Dense)              (None, 1)                 11        \n",
            "=================================================================\n",
            "Total params: 31\n",
            "Trainable params: 31\n",
            "Non-trainable params: 0\n",
            "_________________________________________________________________\n",
            "1500/1500 [==============================] - 5s 3ms/sample - loss: 0.0338\n"
          ],
          "name": "stdout"
        },
        {
          "output_type": "display_data",
          "data": {
            "image/png": "[encoded data removed]",
            "text/plain": [
              "<Figure size 432x288 with 1 Axes>"
            ]
          },
          "metadata": {
            "tags": []
          }
        }
      ]
    },
    {
      "cell_type": "markdown",
      "metadata": {
        "id": "Tx96ecom-XGx",
        "colab_type": "text"
      },
      "source": [
        "# Если запускаете не в интерактивном режиме,как просто .py документ,то добавьте эти строчки,в конце "
      ]
    },
    {
      "cell_type": "code",
      "metadata": {
        "id": "otS2BgEOFyuG",
        "colab_type": "code",
        "colab": {}
      },
      "source": [
        "fig.show()\n",
        "\n",
        "print(\"для выхода нажмите enter\")\n",
        "input()"
      ],
      "execution_count": 0,
      "outputs": []
    },
    {
      "cell_type": "markdown",
      "metadata": {
        "id": "xsKHxpb8AT2l",
        "colab_type": "text"
      },
      "source": [
        "# Приближения этой же функции,с использованием rmsprop и binary_crossentropy,с небольшим  learning rate\n",
        "<img src=\"https://psv4.userapi.com/c856416/u185357991/docs/d12/a513cb9067f2/Gifka.gif?extra=Sh5OZ7b0zJHozdvag9aLriz8d5_aq3OtsDjhquM8prCYUt-MffebZ9PHCdFcVGoqEO-V-bmWcznvI-gSVEaaXVIz861L5zPPPJaE9F3sFH_P9aprGAf8x5pKyLa7586QnzN0n62mf4s5_JEDuu_77w\">"
      ]
    }
  ]
}