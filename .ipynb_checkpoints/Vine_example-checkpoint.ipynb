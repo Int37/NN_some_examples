{
 "cells": [
  {
   "cell_type": "code",
   "execution_count": 2,
   "metadata": {},
   "outputs": [],
   "source": [
    "#импортируем библеотеки\n",
    "import numpy as np\n",
    "import pandas as pd\n",
    "import matplotlib.pyplot as plt\n",
    "from sklearn.datasets import load_wine\n",
    "from sklearn.utils import shuffle\n",
    "from keras.utils import  to_categorical\n",
    "from keras import layers\n",
    "from keras import models\n",
    "from keras import optimizers\n",
    "from sklearn.utils import shuffle\n",
    "from keras.utils import  to_categorical"
   ]
  },
  {
   "cell_type": "code",
   "execution_count": 3,
   "metadata": {},
   "outputs": [],
   "source": [
    "#загружаем данные \n",
    "wine=load_wine()\n",
    "\n",
    "#данные представленны в виде dict,поэтому разделяем данные на x и y\n",
    "x = wine['data']\n",
    "y = wine['target']"
   ]
  },
  {
   "cell_type": "code",
   "execution_count": 4,
   "metadata": {},
   "outputs": [
    {
     "data": {
      "text/plain": [
       "array([1.423e+01, 1.710e+00, 2.430e+00, 1.560e+01, 1.270e+02, 2.800e+00,\n",
       "       3.060e+00, 2.800e-01, 2.290e+00, 5.640e+00, 1.040e+00, 3.920e+00,\n",
       "       1.065e+03])"
      ]
     },
     "execution_count": 4,
     "metadata": {},
     "output_type": "execute_result"
    }
   ],
   "source": [
    "\"\"\"\n",
    "данные представляют из себя вектор следующих значенй\n",
    "Alcohol\n",
    "Malic acid\n",
    "Ash\n",
    "Alcalinity of ash\n",
    "Magnesium\n",
    "Total phenols\n",
    "Flavanoids\n",
    "Nonflavanoid phenols\n",
    "Proanthocyanins\n",
    "Color intensity\n",
    "Hue\n",
    "OD280/OD315 of diluted wines\n",
    "Proline\n",
    "\"\"\"\n",
    "x[0]"
   ]
  },
  {
   "cell_type": "code",
   "execution_count": 5,
   "metadata": {},
   "outputs": [
    {
     "data": {
      "text/plain": [
       "array([0, 0, 0, 0, 0, 0, 0, 0, 0, 0, 0, 0, 0, 0, 0, 0, 0, 0, 0, 0, 0, 0,\n",
       "       0, 0, 0, 0, 0, 0, 0, 0, 0, 0, 0, 0, 0, 0, 0, 0, 0, 0, 0, 0, 0, 0,\n",
       "       0, 0, 0, 0, 0, 0, 0, 0, 0, 0, 0, 0, 0, 0, 0, 1, 1, 1, 1, 1, 1, 1,\n",
       "       1, 1, 1, 1, 1, 1, 1, 1, 1, 1, 1, 1, 1, 1, 1, 1, 1, 1, 1, 1, 1, 1,\n",
       "       1, 1, 1, 1, 1, 1, 1, 1, 1, 1, 1, 1, 1, 1, 1, 1, 1, 1, 1, 1, 1, 1,\n",
       "       1, 1, 1, 1, 1, 1, 1, 1, 1, 1, 1, 1, 1, 1, 1, 1, 1, 1, 1, 1, 2, 2,\n",
       "       2, 2, 2, 2, 2, 2, 2, 2, 2, 2, 2, 2, 2, 2, 2, 2, 2, 2, 2, 2, 2, 2,\n",
       "       2, 2, 2, 2, 2, 2, 2, 2, 2, 2, 2, 2, 2, 2, 2, 2, 2, 2, 2, 2, 2, 2,\n",
       "       2, 2])"
      ]
     },
     "execution_count": 5,
     "metadata": {},
     "output_type": "execute_result"
    }
   ],
   "source": [
    "#Имеем три класса вина\n",
    "y"
   ]
  },
  {
   "cell_type": "code",
   "execution_count": 6,
   "metadata": {},
   "outputs": [],
   "source": [
    "#перемешиваем наш датасет,чтобы нейросеть не привыкала сначала к одному классу,а после к другому\n",
    "x,y = shuffle(x, y)"
   ]
  },
  {
   "cell_type": "code",
   "execution_count": 7,
   "metadata": {},
   "outputs": [
    {
     "data": {
      "text/plain": [
       "array([[0., 1., 0.],\n",
       "       [1., 0., 0.],\n",
       "       [0., 1., 0.],\n",
       "       [0., 1., 0.]], dtype=float32)"
      ]
     },
     "execution_count": 7,
     "metadata": {},
     "output_type": "execute_result"
    }
   ],
   "source": [
    "#так как у нас три класса и мы не хотим свести к задачи регресси,\n",
    "#то мы представляем целевое значение в виде вектора\n",
    "#2 -> [0,0,1],1 -> [0,1,0],0 -> [1,0,0]\n",
    "y = to_categorical(y)\n",
    "y[:4]"
   ]
  },
  {
   "cell_type": "code",
   "execution_count": 32,
   "metadata": {},
   "outputs": [
    {
     "name": "stdout",
     "output_type": "stream",
     "text": [
      "Model: \"sequential_11\"\n",
      "_________________________________________________________________\n",
      "Layer (type)                 Output Shape              Param #   \n",
      "=================================================================\n",
      "dense_31 (Dense)             (None, 20)                280       \n",
      "_________________________________________________________________\n",
      "dense_32 (Dense)             (None, 3)                 63        \n",
      "=================================================================\n",
      "Total params: 343\n",
      "Trainable params: 343\n",
      "Non-trainable params: 0\n",
      "_________________________________________________________________\n",
      "None\n"
     ]
    }
   ],
   "source": [
    "#создаем экземпляр каркаса полносвязной нейросети\n",
    "model = models.Sequential()\n",
    "# добавляем слои,указывая тип слоя,количество нейронов,функцию активации\n",
    "# размер входа для нейросети\n",
    "model.add(layers.Dense(20,activation = 'sigmoid',input_shape =(13,)))\n",
    "model.add(layers.Dense(3,activation = 'relu'))\n",
    "#рисуем то что построили\n",
    "print(model.summary())\n"
   ]
  },
  {
   "cell_type": "code",
   "execution_count": 34,
   "metadata": {},
   "outputs": [
    {
     "name": "stdout",
     "output_type": "stream",
     "text": [
      "Epoch 1/2\n",
      "71/71 [==============================] - 1s 4ms/step - loss: 1.0115 - acc: 0.5892 - val_loss: 0.7972 - val_acc: 0.7222\n",
      "Epoch 2/2\n",
      "71/71 [==============================] - 0s 2ms/step - loss: 1.1801 - acc: 0.5733 - val_loss: 0.7901 - val_acc: 0.7222\n"
     ]
    }
   ],
   "source": [
    "# Про все функции для экземпляра класса модель,в том числе compile,fit,predict можно прочесть тут: https://keras.io/models/model/\n",
    "# Про виды ошибки,которые есть в keras можно прочесть тут: https://keras.io/losses/\n",
    "# Про виды оптимизаторов,которые есть в keras можно прочесть тут: https://keras.io/optimizers/\n",
    "model.compile(loss='binary_crossentropy',optimizer = optimizers.RMSprop(lr=1e-4),metrics = ['acc'])\n",
    "# обучаем,указывая:\n",
    "# x - обучающие данные;\n",
    "# y - верные ответы;\n",
    "# количество эпох(сколько раз наша нейросеть будет обучаться на датасете раз);\n",
    "# batch_size - указывает после сколько экземпляров x изменять значение весов;\n",
    "# validation split - указываем процент для проверки на тестовой части\n",
    "history =  model.fit(x,y,epochs= 2,batch_size=2,validation_split = 0.2,verbose = 1)\n"
   ]
  }
 ],
 "metadata": {
  "kernelspec": {
   "display_name": "Python 3",
   "language": "python",
   "name": "python3"
  },
  "language_info": {
   "codemirror_mode": {
    "name": "ipython",
    "version": 3
   },
   "file_extension": ".py",
   "mimetype": "text/x-python",
   "name": "python",
   "nbconvert_exporter": "python",
   "pygments_lexer": "ipython3",
   "version": "3.8.5"
  }
 },
 "nbformat": 4,
 "nbformat_minor": 4
}
