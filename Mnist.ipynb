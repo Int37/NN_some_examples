{
  "nbformat": 4,
  "nbformat_minor": 0,
  "metadata": {
    "colab": {
      "name": "Untitled5.ipynb",
      "provenance": [],
      "collapsed_sections": []
    },
    "kernelspec": {
      "name": "python3",
      "display_name": "Python 3"
    }
  },
  "cells": [
    {
      "cell_type": "code",
      "metadata": {
        "id": "HRDSTz-vESdq",
        "colab_type": "code",
        "colab": {}
      },
      "source": [
        "#Сделаем распознавания цифр mnist,некий \"Hello world\",среди нейросетей\n",
        "#Настоятельно рекомендую сначала ознакомится с примером sin_approximations\n",
        "\n",
        "# Импонтируем необходимые библеотеки\n",
        "import numpy as np \n",
        "# numpy - библеотека питон для работы с тензорами,она должна быть вам знакома из курса ml\n",
        "import matplotlib.pyplot as plt\n",
        "from tensorflow.keras import layers\n",
        "from tensorflow.keras import models\n",
        "from tensorflow.keras import optimizers\n",
        "from tensorflow.keras.utils import  to_categorical\n",
        "# Воспользуемся уже готовым датасетом,который уже собрали\n",
        "from tensorflow.keras.datasets import mnist"
      ],
      "execution_count": 0,
      "outputs": []
    },
    {
      "cell_type": "code",
      "metadata": {
        "id": "PPSpr7RiPwjD",
        "colab_type": "code",
        "colab": {
          "base_uri": "https://localhost:8080/",
          "height": 35
        },
        "outputId": "5dacdc64-c623-4ac4-9b0a-74e3d9949a5c"
      },
      "source": [
        "#скачиваем датасет\n",
        "(train_images, train_labels), (test_images, test_labels) = mnist.load_data() \n",
        "print(\"Размерность тренировочного датасета: \",train_images.shape)"
      ],
      "execution_count": 13,
      "outputs": [
        {
          "output_type": "stream",
          "text": [
            "Размерность тренировочного датасета:  (60000, 28, 28)\n"
          ],
          "name": "stdout"
        }
      ]
    },
    {
      "cell_type": "code",
      "metadata": {
        "id": "5dCMz5G_Phv8",
        "colab_type": "code",
        "colab": {}
      },
      "source": [
        "\"\"\"\n",
        "Пока что наша нейросеть не может знать о пространственном положении пикселей\n",
        "Поэтому изменим размерность изображения,сделаем матрицу с 60000 строками,где\n",
        "каждая строка - одна картинка,сделаем подобное преобразования и с тестовыми \n",
        "данными\n",
        "Так же нормализуем наши изображения,приведем все значение пикселей к отрезку \n",
        "[0,1],вместо [0,255]\n",
        "Преобразования типа пикселей к float32 необходимо для корректной нормализации\n",
        "\"\"\"\n",
        "train_images = train_images.reshape((60000,28*28))\n",
        "train_images = train_images.astype('float32')/255\n",
        "test_images = test_images.reshape((10000,28 * 28))\n",
        "test_images = test_images.astype('float32')/255\n",
        "\n",
        "\"\"\"\n",
        "сделаем небольшое преобразование,сейчас в train_labels и test_labels хранится\n",
        "только вектора правильных ответов,преобразуем эти вектора в матрицу,где каждая\n",
        "строка это массив из 10 чисел,где на месте числа из вектора стоит 1,а остальные \n",
        "нули ,пример:\n",
        "[1,4,5,9] -> array([[0., 1., 0., 0., 0., 0., 0., 0., 0., 0.],\n",
        "                    [0., 0., 0., 0., 1., 0., 0., 0., 0., 0.],\n",
        "                    [0., 0., 0., 0., 0., 1., 0., 0., 0., 0.],\n",
        "                    [0., 0., 0., 0., 0., 0., 0., 0., 0., 1.]])\n",
        "Наша нейросеть на последнем слое будет иметь  10 нейронов с выходными \n",
        "значениями от 0 до 1,которое будет значить уверенность сети в том,что это \n",
        "изображение соответствует этому классу цифры.Поэтому это преобразования и нужно.\n",
        "\"\"\"\n",
        "train_labels = to_categorical(train_labels)\n",
        "test_labels = to_categorical(test_labels)"
      ],
      "execution_count": 0,
      "outputs": []
    },
    {
      "cell_type": "code",
      "metadata": {
        "id": "qsA0KUXHKujw",
        "colab_type": "code",
        "colab": {
          "base_uri": "https://localhost:8080/",
          "height": 237
        },
        "outputId": "9d222cb0-7efa-44ee-852e-d4833184d8fd"
      },
      "source": [
        "model = models.Sequential() # Инициализируем модель\n",
        "#добавляем слой Dense,указывая размерность входных данных\n",
        "model.add(layers.Dense(64,activation = 'relu',input_shape=(28*28,))) \n",
        "#добавляем слой ответа,он будет возвращать вектор из 10 чисел\n",
        "model.add(layers.Dense(10,activation = 'softmax'))\n",
        "model.summary() #выводим информацию о модели "
      ],
      "execution_count": 15,
      "outputs": [
        {
          "output_type": "stream",
          "text": [
            "Model: \"sequential_1\"\n",
            "_________________________________________________________________\n",
            "Layer (type)                 Output Shape              Param #   \n",
            "=================================================================\n",
            "dense_2 (Dense)              (None, 64)                50240     \n",
            "_________________________________________________________________\n",
            "dense_3 (Dense)              (None, 10)                650       \n",
            "=================================================================\n",
            "Total params: 50,890\n",
            "Trainable params: 50,890\n",
            "Non-trainable params: 0\n",
            "_________________________________________________________________\n"
          ],
          "name": "stdout"
        }
      ]
    },
    {
      "cell_type": "code",
      "metadata": {
        "id": "Ri72PhF7UsLf",
        "colab_type": "code",
        "colab": {
          "base_uri": "https://localhost:8080/",
          "height": 219
        },
        "outputId": "8f3a65ef-b4ef-4388-f9f6-40964e0ffe5d"
      },
      "source": [
        "model.compile(optimizer='rmsprop',loss='categorical_crossentropy',metrics=['accuracy'])\n",
        "model.fit(train_images,train_labels,epochs= 5,batch_size=64,verbose=1)"
      ],
      "execution_count": 16,
      "outputs": [
        {
          "output_type": "stream",
          "text": [
            "Epoch 1/5\n",
            "60000/60000 [==============================] - 2s 33us/sample - loss: 0.3385 - acc: 0.9074\n",
            "Epoch 2/5\n",
            "60000/60000 [==============================] - 2s 33us/sample - loss: 0.1715 - acc: 0.9505\n",
            "Epoch 3/5\n",
            "60000/60000 [==============================] - 2s 33us/sample - loss: 0.1294 - acc: 0.9625\n",
            "Epoch 4/5\n",
            "60000/60000 [==============================] - 2s 33us/sample - loss: 0.1046 - acc: 0.9697\n",
            "Epoch 5/5\n",
            "60000/60000 [==============================] - 2s 33us/sample - loss: 0.0887 - acc: 0.9746\n"
          ],
          "name": "stdout"
        },
        {
          "output_type": "execute_result",
          "data": {
            "text/plain": [
              "<tensorflow.python.keras.callbacks.History at 0x7f31ac255898>"
            ]
          },
          "metadata": {
            "tags": []
          },
          "execution_count": 16
        }
      ]
    },
    {
      "cell_type": "code",
      "metadata": {
        "id": "5h0wFPA8UxJB",
        "colab_type": "code",
        "colab": {
          "base_uri": "https://localhost:8080/",
          "height": 306
        },
        "outputId": "ff9dc762-98c9-4de6-a488-8f00e218f114"
      },
      "source": [
        "#Проверим верна ли наша модель,для 1 цифры в тестовом датасете\n",
        "print(model.predict(test_images[0:1]))\n",
        "plt.imshow(np.abs(test_images[0].reshape(28,28)-1),cmap=\"gray\")\n",
        "plt.show()\n",
        "#Модель более чем уверенна,что это цифра семь,ей она дала 0.99 вероятность"
      ],
      "execution_count": 17,
      "outputs": [
        {
          "output_type": "stream",
          "text": [
            "[[7.6079893e-08 1.2520583e-10 1.4346984e-04 8.9917291e-04 2.7861649e-10\n",
            "  2.7523177e-07 8.1119761e-15 9.9883288e-01 3.3805127e-06 1.2070166e-04]]\n"
          ],
          "name": "stdout"
        },
        {
          "output_type": "display_data",
          "data": {
            "image/png": "[encoded data removed]",
            "text/plain": [
              "<Figure size 432x288 with 1 Axes>"
            ]
          },
          "metadata": {
            "tags": []
          }
        }
      ]
    },
    {
      "cell_type": "code",
      "metadata": {
        "colab_type": "code",
        "outputId": "96547a15-e4a9-439c-eeb0-e97e8a980853",
        "id": "-MTr39INVYcX",
        "colab": {
          "base_uri": "https://localhost:8080/",
          "height": 54
        }
      },
      "source": [
        "#Проверим нашу нейросеть на всей тестовой выборке\n",
        "test_loss,test_acc = model.evaluate(test_images,test_labels)\n",
        "print('Результат accuracy на тестовой выборке ',test_acc)"
      ],
      "execution_count": 18,
      "outputs": [
        {
          "output_type": "stream",
          "text": [
            "10000/10000 [==============================] - 0s 27us/sample - loss: 0.0992 - acc: 0.9708\n",
            "Результат accuracy на тестовой выборке  0.9708\n"
          ],
          "name": "stdout"
        }
      ]
    },
    {
      "cell_type": "markdown",
      "metadata": {
        "id": "3KRfO0c_df7Z",
        "colab_type": "text"
      },
      "source": [
        "#Тут весь код,если хотите запустить не в интерактивном режиме,в .py,то просто скопируетей код отсюда:"
      ]
    },
    {
      "cell_type": "code",
      "metadata": {
        "id": "jcRLe3WTcugN",
        "colab_type": "code",
        "colab": {}
      },
      "source": [
        "import numpy as np \n",
        "from tensorflow.keras import layers\n",
        "from tensorflow.keras import models\n",
        "from tensorflow.keras import optimizers\n",
        "from tensorflow.keras.utils import  to_categorical\n",
        "from tensorflow.keras.datasets import mnist\n",
        "\n",
        "(train_images, train_labels), (test_images, test_labels) = mnist.load_data() \n",
        "\n",
        "train_images = train_images.reshape((60000,28 , 28,1))\n",
        "train_images = train_images.astype('float32')/255\n",
        "test_images = test_images.reshape((10000,28 , 28,1))\n",
        "test_images = test_images.astype('float32')/255\n",
        "train_labels = to_categorical(train_labels)\n",
        "test_labels = to_categorical(test_labels)\n",
        "\n",
        "model = models.Sequential()\n",
        "model.add(layers.Dense(64,activation = 'relu',input_shape=(28*28,))) \n",
        "model.add(layers.Dense(10,activation = 'softmax'))\n",
        "\n",
        "model.compile(optimizer='rmsprop',loss='categorical_crossentropy',metrics=['accuracy'])\n",
        "model.fit(train_images,train_labels,epochs= 5,batch_size=64,verbose=1)\n",
        "\n",
        "test_loss,test_acc = model.evaluate(test_images,test_labels)\n",
        "print('Результат accuracy на тестовой выборке ',test_acc)"
      ],
      "execution_count": 0,
      "outputs": []
    }
  ]
}