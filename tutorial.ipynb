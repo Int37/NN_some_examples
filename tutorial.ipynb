{
  "nbformat": 4,
  "nbformat_minor": 0,
  "metadata": {
    "colab": {
      "name": "Untitled6.ipynb",
      "provenance": [],
      "collapsed_sections": []
    },
    "kernelspec": {
      "name": "python3",
      "display_name": "Python 3"
    }
  },
  "cells": [
    {
      "cell_type": "markdown",
      "metadata": {
        "id": "xCnXGuxNkHKb",
        "colab_type": "text"
      },
      "source": [
        "# Установка библеотеки Keras в windows"
      ]
    },
    {
      "cell_type": "markdown",
      "metadata": {
        "id": "mf4cY3wHlGVl",
        "colab_type": "text"
      },
      "source": [
        "## Установка python(Anaconda)\n",
        "Можно устанавливать и обычный python,команды не сильно изменятся,вместо\n",
        "conda install нужно будет писать pip install,но в данном туториале мы\n",
        "будем рассматривать anaconda,в связи с удобным менеджером пакетов и большой\n",
        "базовой библеотекой \n",
        "###  переходим на сайт : https://www.anaconda.com/distribution/\n",
        "###  выбираем нашу операционную систему\n",
        "\n",
        "<img src=\"https://sun9-19.userapi.com/c856020/v856020082/fc9e5/NZB2PPfWstI.jpg\">\n",
        "\n",
        "###  скачиваем,нажимая \"download\"\n",
        "\n",
        "<img src=\"https://sun9-3.userapi.com/c853624/v853624082/ffaac/4huu40wHzrQ.jpg\">\n",
        "\n",
        "### устанавливаем,выбирая,для всех ли пользователей и путь установки \n",
        "\n",
        "<img src=\"https://sun9-51.userapi.com/c855632/v855632013/10069e/9HiWgL6_VFE.jpg\">\n",
        "\n",
        "### Важно добавить в переменную среды path , поставив галочку\n",
        "\n",
        "\n",
        "### Ждем окончания установки \n",
        "\n",
        "### После окончания,нажимаем R+Win, пишем cmd, нажимаем ок\n",
        "<img src=\"https://sun9-28.userapi.com/c858216/v858216013/8380b/nWwpBGdxOaw.jpg\">\n",
        "\n",
        "### Открывается консоль,в ней пишем \"conda list\" \n",
        "\n",
        "<img src=\"https://sun9-12.userapi.com/c858216/v858216013/83835/vmNqz2mU5P4.jpg\">\n",
        "\n",
        "\n",
        "###должно быть что то аналогичное скриншоту,если так,то анаконда установилось верно,команда \"conda list\" нужна для вывода списка пакетов,которые установлины в conda. Нам необходим tensorflow,с недавних пор keras - часть tensorflow,хотя можно поставить keras и без tensorflow\n",
        "\n",
        "## Установка tensorflow \n",
        "###  Вводим команду в консоли  \"conda install tensorflow\"\n",
        "<img src=\"https://sun9-23.userapi.com/c858216/v858216013/83850/C-V71n84Bm8.jpg\">  \n",
        "###  Соглашаемся вводя в консоль y и нажимая enter \n",
        "###  после установки запускаем python в консоле,командой python,пробуем сделать import tensorflow, если все получилось и ошибок нет,поздравляю,все готово\n",
        "<img src=\"https://sun9-1.userapi.com/c850124/v850124549/1e7619/YnRTM1cPnH8.jpg\">\n",
        "\n",
        "## если у вас есть достаточно мощное gpu с поддержкой cuda,то установите пакет с помощью команды conda install tensorflow-gpu и тензорфлоу автоматически будет обучать нейросети на gpu\n",
        "\n"
      ]
    },
    {
      "cell_type": "markdown",
      "metadata": {
        "id": "jRKem3sZ0YPr",
        "colab_type": "text"
      },
      "source": [
        "# Установка Keras в Linux"
      ]
    },
    {
      "cell_type": "markdown",
      "metadata": {
        "id": "4aEaJjV20Z3l",
        "colab_type": "text"
      },
      "source": [
        "## установка python (Anaconda)\n",
        "Можно устанавливать и обычный python,команды не сильно изменятся,вместо\n",
        "conda install нужно будет писать pip install,но в данном туториале мы\n",
        "будем рассматривать anaconda,в связи с удобным менеджером пакетов и большой\n",
        "базовой библеотекой \n",
        "###  переходим на сайт : https://www.anaconda.com/distribution/\n",
        "###  выбираем нашу операционную систему\n",
        "\n",
        "###  скачиваем sh установщик,нажимая \"download\"\n",
        "\n",
        "<img src=\"https://sun9-18.userapi.com/c851224/v851224774/1dacad/vHE2xkNf1MA.jpg\">\n",
        "\n",
        "### устанавливаем командой \"sudo sh <имя пакета>\"\n",
        "\n",
        "<img src=\"https://sun1-84.userapi.com/c851224/v851224774/1dacb7/AbXFZXAxiGs.jpg\">\n",
        "\n",
        "### соглашаемся с лицензионным соглашением,устанавливаем,во время установки может быть  предупреждения,что анаконда не добавилась в path, это можно исправить, насильно прописав в путь в path командой \"sudo nano /etc/environment\" в конце ставите двоеточие и дописываете путь до anaconda/bin\n",
        "\n",
        "## Установка tensorflow \n",
        "###  Вводим команду в консоли  \"conda install tensorflow\n",
        "\n",
        "###  Соглашаемся вводя в консоль y и нажимая enter \n",
        "<img src=\"https://sun9-68.userapi.com/c851216/v851216774/1bf30b/k06Q8edQwFA.jpg\">\n",
        "\n",
        "\n",
        "###  после установки запускаем python в консоле,командой python,пробуем сделать import tensorflow, если все получилось и ошибок нет,поздравляю,все готово\n",
        "<img src=\"https://sun9-15.userapi.com/c851216/v851216774/1bf335/rtPfXUOAY9s.jpg\">\n",
        "\n",
        "## если у вас есть достаточно мощное gpu с поддержкой cuda,то установите пакет с помощью команды conda install tensorflow-gpu и тензорфлоу автоматически будет обучать нейросети на gpu\n",
        "\n"
      ]
    },
    {
      "cell_type": "markdown",
      "metadata": {
        "id": "L4ITqXjD0B3n",
        "colab_type": "text"
      },
      "source": [
        "# Запуск в интерактивном режиме\n",
        "### Чтобы запустить в интерактивном режиме, нажмите R+Win,Напишите cmd, нажмите enter, скопируете путь ipynb файлу, или путь до места,где вы будуте его создавать,впишите в консоль путь \"cd <ваш путь>\",если ваш файл или папка находятся на другом жеском диске,то выберете его в консоле,командой <Метка тома:>, например \"g:\".\n",
        "### После перехода в нужную директория введите команду \"jupyter notebook\"\n",
        "<img src=\"https://sun9-8.userapi.com/c850124/v850124549/1e7651/ojUI3ASNHL8.jpg\" >\n",
        "\n",
        "### должен открыться браузер по умолчани,если нет,то скопируете ссылку из консоли\n",
        "### открывшийся сайт выглядит вот так\n",
        "<img src=\"https://sun9-9.userapi.com/c850124/v850124549/1e7826/MgfKnGeJOKc.jpg\">\n",
        "\n",
        "### чтобы работать выберите new -> python 3 или же выберете файл из списка\n",
        "\n",
        "<img src=\"https://sun9-33.userapi.com/c850124/v850124549/1e784e/ttY7rU5q8Zs.jpg\">\n",
        "\n",
        "### Выглядит как обычная ide,но каждую ячейку можно запускать отдельно и они все имеют общие переменные\n",
        "<img src=\"https://sun9-62.userapi.com/c850124/v850124549/1e7857/2t5Kjl5EVnM.jpg\">\n"
      ]
    }
  ]
}